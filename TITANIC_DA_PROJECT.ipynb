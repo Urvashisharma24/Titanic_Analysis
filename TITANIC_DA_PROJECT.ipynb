{
 "cells": [
  {
   "cell_type": "markdown",
   "id": "d2fd0b06-1caa-4d8b-853d-d30610faf08b",
   "metadata": {},
   "source": [
    "# TITANIC DATA ANALYSIS"
   ]
  },
  {
   "cell_type": "code",
   "execution_count": 2,
   "id": "8997c189-2157-44c1-84d6-de150a01cbe4",
   "metadata": {},
   "outputs": [],
   "source": [
    "import pandas as pd"
   ]
  },
  {
   "cell_type": "code",
   "execution_count": 41,
   "id": "45736fac-84dc-4fe7-855d-530a2457df43",
   "metadata": {},
   "outputs": [],
   "source": [
    "df=pd.read_csv(\"D:\\\\Statistics\\\\data\\\\titanic.csv\")"
   ]
  },
  {
   "cell_type": "code",
   "execution_count": 4,
   "id": "3b9d7b5b-4bd7-4061-a1f0-ec901e83d4c4",
   "metadata": {},
   "outputs": [
    {
     "data": {
      "text/html": [
       "<div>\n",
       "<style scoped>\n",
       "    .dataframe tbody tr th:only-of-type {\n",
       "        vertical-align: middle;\n",
       "    }\n",
       "\n",
       "    .dataframe tbody tr th {\n",
       "        vertical-align: top;\n",
       "    }\n",
       "\n",
       "    .dataframe thead th {\n",
       "        text-align: right;\n",
       "    }\n",
       "</style>\n",
       "<table border=\"1\" class=\"dataframe\">\n",
       "  <thead>\n",
       "    <tr style=\"text-align: right;\">\n",
       "      <th></th>\n",
       "      <th>PassengerId</th>\n",
       "      <th>Survived</th>\n",
       "      <th>Pclass</th>\n",
       "      <th>Name</th>\n",
       "      <th>gender</th>\n",
       "      <th>Age</th>\n",
       "      <th>SibSp</th>\n",
       "      <th>Parch</th>\n",
       "      <th>Ticket</th>\n",
       "      <th>Fare</th>\n",
       "      <th>Cabin</th>\n",
       "      <th>Embarked</th>\n",
       "    </tr>\n",
       "  </thead>\n",
       "  <tbody>\n",
       "    <tr>\n",
       "      <th>0</th>\n",
       "      <td>1</td>\n",
       "      <td>0</td>\n",
       "      <td>3</td>\n",
       "      <td>Braund, Mr. Owen Harris</td>\n",
       "      <td>male</td>\n",
       "      <td>22.0</td>\n",
       "      <td>1</td>\n",
       "      <td>0</td>\n",
       "      <td>A/5 21171</td>\n",
       "      <td>7.2500</td>\n",
       "      <td>NaN</td>\n",
       "      <td>S</td>\n",
       "    </tr>\n",
       "    <tr>\n",
       "      <th>1</th>\n",
       "      <td>2</td>\n",
       "      <td>1</td>\n",
       "      <td>1</td>\n",
       "      <td>Cumings, Mrs. John Bradley (Florence Briggs Th...</td>\n",
       "      <td>female</td>\n",
       "      <td>38.0</td>\n",
       "      <td>1</td>\n",
       "      <td>0</td>\n",
       "      <td>PC 17599</td>\n",
       "      <td>71.2833</td>\n",
       "      <td>C85</td>\n",
       "      <td>C</td>\n",
       "    </tr>\n",
       "    <tr>\n",
       "      <th>2</th>\n",
       "      <td>3</td>\n",
       "      <td>1</td>\n",
       "      <td>3</td>\n",
       "      <td>Heikkinen, Miss. Laina</td>\n",
       "      <td>female</td>\n",
       "      <td>26.0</td>\n",
       "      <td>0</td>\n",
       "      <td>0</td>\n",
       "      <td>STON/O2. 3101282</td>\n",
       "      <td>7.9250</td>\n",
       "      <td>NaN</td>\n",
       "      <td>S</td>\n",
       "    </tr>\n",
       "    <tr>\n",
       "      <th>3</th>\n",
       "      <td>4</td>\n",
       "      <td>1</td>\n",
       "      <td>1</td>\n",
       "      <td>Futrelle, Mrs. Jacques Heath (Lily May Peel)</td>\n",
       "      <td>female</td>\n",
       "      <td>35.0</td>\n",
       "      <td>1</td>\n",
       "      <td>0</td>\n",
       "      <td>113803</td>\n",
       "      <td>53.1000</td>\n",
       "      <td>C123</td>\n",
       "      <td>S</td>\n",
       "    </tr>\n",
       "    <tr>\n",
       "      <th>4</th>\n",
       "      <td>5</td>\n",
       "      <td>0</td>\n",
       "      <td>3</td>\n",
       "      <td>Allen, Mr. William Henry</td>\n",
       "      <td>male</td>\n",
       "      <td>35.0</td>\n",
       "      <td>0</td>\n",
       "      <td>0</td>\n",
       "      <td>373450</td>\n",
       "      <td>8.0500</td>\n",
       "      <td>NaN</td>\n",
       "      <td>S</td>\n",
       "    </tr>\n",
       "    <tr>\n",
       "      <th>...</th>\n",
       "      <td>...</td>\n",
       "      <td>...</td>\n",
       "      <td>...</td>\n",
       "      <td>...</td>\n",
       "      <td>...</td>\n",
       "      <td>...</td>\n",
       "      <td>...</td>\n",
       "      <td>...</td>\n",
       "      <td>...</td>\n",
       "      <td>...</td>\n",
       "      <td>...</td>\n",
       "      <td>...</td>\n",
       "    </tr>\n",
       "    <tr>\n",
       "      <th>886</th>\n",
       "      <td>887</td>\n",
       "      <td>0</td>\n",
       "      <td>2</td>\n",
       "      <td>Montvila, Rev. Juozas</td>\n",
       "      <td>male</td>\n",
       "      <td>27.0</td>\n",
       "      <td>0</td>\n",
       "      <td>0</td>\n",
       "      <td>211536</td>\n",
       "      <td>13.0000</td>\n",
       "      <td>NaN</td>\n",
       "      <td>S</td>\n",
       "    </tr>\n",
       "    <tr>\n",
       "      <th>887</th>\n",
       "      <td>888</td>\n",
       "      <td>1</td>\n",
       "      <td>1</td>\n",
       "      <td>Graham, Miss. Margaret Edith</td>\n",
       "      <td>female</td>\n",
       "      <td>19.0</td>\n",
       "      <td>0</td>\n",
       "      <td>0</td>\n",
       "      <td>112053</td>\n",
       "      <td>30.0000</td>\n",
       "      <td>B42</td>\n",
       "      <td>S</td>\n",
       "    </tr>\n",
       "    <tr>\n",
       "      <th>888</th>\n",
       "      <td>889</td>\n",
       "      <td>0</td>\n",
       "      <td>3</td>\n",
       "      <td>Johnston, Miss. Catherine Helen \"Carrie\"</td>\n",
       "      <td>female</td>\n",
       "      <td>NaN</td>\n",
       "      <td>1</td>\n",
       "      <td>2</td>\n",
       "      <td>W./C. 6607</td>\n",
       "      <td>23.4500</td>\n",
       "      <td>NaN</td>\n",
       "      <td>S</td>\n",
       "    </tr>\n",
       "    <tr>\n",
       "      <th>889</th>\n",
       "      <td>890</td>\n",
       "      <td>1</td>\n",
       "      <td>1</td>\n",
       "      <td>Behr, Mr. Karl Howell</td>\n",
       "      <td>male</td>\n",
       "      <td>26.0</td>\n",
       "      <td>0</td>\n",
       "      <td>0</td>\n",
       "      <td>111369</td>\n",
       "      <td>30.0000</td>\n",
       "      <td>C148</td>\n",
       "      <td>C</td>\n",
       "    </tr>\n",
       "    <tr>\n",
       "      <th>890</th>\n",
       "      <td>891</td>\n",
       "      <td>0</td>\n",
       "      <td>3</td>\n",
       "      <td>Dooley, Mr. Patrick</td>\n",
       "      <td>male</td>\n",
       "      <td>32.0</td>\n",
       "      <td>0</td>\n",
       "      <td>0</td>\n",
       "      <td>370376</td>\n",
       "      <td>7.7500</td>\n",
       "      <td>NaN</td>\n",
       "      <td>Q</td>\n",
       "    </tr>\n",
       "  </tbody>\n",
       "</table>\n",
       "<p>891 rows × 12 columns</p>\n",
       "</div>"
      ],
      "text/plain": [
       "     PassengerId  Survived  Pclass  \\\n",
       "0              1         0       3   \n",
       "1              2         1       1   \n",
       "2              3         1       3   \n",
       "3              4         1       1   \n",
       "4              5         0       3   \n",
       "..           ...       ...     ...   \n",
       "886          887         0       2   \n",
       "887          888         1       1   \n",
       "888          889         0       3   \n",
       "889          890         1       1   \n",
       "890          891         0       3   \n",
       "\n",
       "                                                  Name  gender   Age  SibSp  \\\n",
       "0                              Braund, Mr. Owen Harris    male  22.0      1   \n",
       "1    Cumings, Mrs. John Bradley (Florence Briggs Th...  female  38.0      1   \n",
       "2                               Heikkinen, Miss. Laina  female  26.0      0   \n",
       "3         Futrelle, Mrs. Jacques Heath (Lily May Peel)  female  35.0      1   \n",
       "4                             Allen, Mr. William Henry    male  35.0      0   \n",
       "..                                                 ...     ...   ...    ...   \n",
       "886                              Montvila, Rev. Juozas    male  27.0      0   \n",
       "887                       Graham, Miss. Margaret Edith  female  19.0      0   \n",
       "888           Johnston, Miss. Catherine Helen \"Carrie\"  female   NaN      1   \n",
       "889                              Behr, Mr. Karl Howell    male  26.0      0   \n",
       "890                                Dooley, Mr. Patrick    male  32.0      0   \n",
       "\n",
       "     Parch            Ticket     Fare Cabin Embarked  \n",
       "0        0         A/5 21171   7.2500   NaN        S  \n",
       "1        0          PC 17599  71.2833   C85        C  \n",
       "2        0  STON/O2. 3101282   7.9250   NaN        S  \n",
       "3        0            113803  53.1000  C123        S  \n",
       "4        0            373450   8.0500   NaN        S  \n",
       "..     ...               ...      ...   ...      ...  \n",
       "886      0            211536  13.0000   NaN        S  \n",
       "887      0            112053  30.0000   B42        S  \n",
       "888      2        W./C. 6607  23.4500   NaN        S  \n",
       "889      0            111369  30.0000  C148        C  \n",
       "890      0            370376   7.7500   NaN        Q  \n",
       "\n",
       "[891 rows x 12 columns]"
      ]
     },
     "execution_count": 4,
     "metadata": {},
     "output_type": "execute_result"
    }
   ],
   "source": [
    "df"
   ]
  },
  {
   "cell_type": "code",
   "execution_count": 42,
   "id": "40f57274-515c-431e-94b3-501a65636cf2",
   "metadata": {},
   "outputs": [
    {
     "name": "stdout",
     "output_type": "stream",
     "text": [
      "\n",
      "<class 'pandas.core.frame.DataFrame'>\n",
      "RangeIndex: 891 entries, 0 to 890\n",
      "Data columns (total 12 columns):\n",
      " #   Column       Non-Null Count  Dtype  \n",
      "---  ------       --------------  -----  \n",
      " 0   PassengerId  891 non-null    int64  \n",
      " 1   Survived     891 non-null    int64  \n",
      " 2   Pclass       891 non-null    int64  \n",
      " 3   Name         891 non-null    object \n",
      " 4   gender       891 non-null    object \n",
      " 5   Age          714 non-null    float64\n",
      " 6   SibSp        891 non-null    int64  \n",
      " 7   Parch        891 non-null    int64  \n",
      " 8   Ticket       891 non-null    object \n",
      " 9   Fare         891 non-null    float64\n",
      " 10  Cabin        204 non-null    object \n",
      " 11  Embarked     889 non-null    object \n",
      "dtypes: float64(2), int64(5), object(5)\n",
      "memory usage: 83.7+ KB\n"
     ]
    }
   ],
   "source": [
    "# df.head()  # First 5 rows\n",
    "# print()\n",
    "df.columns  # Column names\n",
    "print()\n",
    "df.info() # Data types and missing values"
   ]
  },
  {
   "cell_type": "code",
   "execution_count": 43,
   "id": "c4999fbe-cb54-492f-8be8-815360ddb9d8",
   "metadata": {},
   "outputs": [
    {
     "name": "stdout",
     "output_type": "stream",
     "text": [
      "Total Number of Passengers:= 891\n"
     ]
    }
   ],
   "source": [
    "print(\"Total Number of Passengers:=\",df.gender.count())"
   ]
  },
  {
   "cell_type": "code",
   "execution_count": 44,
   "id": "1d0f0415-0224-4aa0-a3fd-2f3c7a6eb070",
   "metadata": {},
   "outputs": [
    {
     "data": {
      "text/plain": [
       "(577, 12)"
      ]
     },
     "execution_count": 44,
     "metadata": {},
     "output_type": "execute_result"
    }
   ],
   "source": [
    "df[(df.gender==\"male\")].shape"
   ]
  },
  {
   "cell_type": "code",
   "execution_count": 45,
   "id": "f3392737-0a95-4cce-b5c9-7b6f87936432",
   "metadata": {},
   "outputs": [
    {
     "data": {
      "text/plain": [
       "(314, 12)"
      ]
     },
     "execution_count": 45,
     "metadata": {},
     "output_type": "execute_result"
    }
   ],
   "source": [
    "df[(df.gender==\"female\")].shape"
   ]
  },
  {
   "cell_type": "code",
   "execution_count": 18,
   "id": "c4bafb25-4b69-4110-b99b-f6824c81291a",
   "metadata": {},
   "outputs": [
    {
     "name": "stdout",
     "output_type": "stream",
     "text": [
      "Total Number of Male Passengers:= 577\n",
      "Total Number of Female Passengers:= 314\n"
     ]
    }
   ],
   "source": [
    "print(\"Total Number of Male Passengers:= 577\")\n",
    "print(\"Total Number of Female Passengers:= 314\")"
   ]
  },
  {
   "cell_type": "code",
   "execution_count": 23,
   "id": "87b488bc-0f13-4793-947c-3e3b9b3caa3d",
   "metadata": {},
   "outputs": [],
   "source": [
    "# HOW MUCH PASSENGERS SURVIVED?\n",
    "# HOW MUCH MALE AND FEMALE PASSENGERS SURVIVED?"
   ]
  },
  {
   "cell_type": "code",
   "execution_count": 24,
   "id": "76a20e7e-5e68-4e6c-a812-5e0274f29294",
   "metadata": {},
   "outputs": [
    {
     "data": {
      "text/plain": [
       "(342, 12)"
      ]
     },
     "execution_count": 24,
     "metadata": {},
     "output_type": "execute_result"
    }
   ],
   "source": [
    "df[(df.Survived==1)].shape #number of passengers survived"
   ]
  },
  {
   "cell_type": "code",
   "execution_count": 20,
   "id": "f8c540a5-9721-4d35-b3eb-85edcdbdf14f",
   "metadata": {},
   "outputs": [
    {
     "data": {
      "text/plain": [
       "(109, 12)"
      ]
     },
     "execution_count": 20,
     "metadata": {},
     "output_type": "execute_result"
    }
   ],
   "source": [
    "df[(df.gender==\"male\") & (df.Survived==1)].shape"
   ]
  },
  {
   "cell_type": "code",
   "execution_count": 21,
   "id": "c08bdf96-79d6-4dc3-8383-2fedbf0f9b16",
   "metadata": {},
   "outputs": [
    {
     "data": {
      "text/plain": [
       "(233, 12)"
      ]
     },
     "execution_count": 21,
     "metadata": {},
     "output_type": "execute_result"
    }
   ],
   "source": [
    "df[(df.gender==\"female\") & (df.Survived==1)].shape"
   ]
  },
  {
   "cell_type": "code",
   "execution_count": 25,
   "id": "4abb72c0-ae25-49f6-87d0-a651b73d1bab",
   "metadata": {},
   "outputs": [
    {
     "name": "stdout",
     "output_type": "stream",
     "text": [
      "Total Number of Passengers Survived:= 342\n",
      "Total Number of Male Passengers Survived:= 109\n",
      "Total Number of Female Passengers Survived:= 233\n"
     ]
    }
   ],
   "source": [
    "print(\"Total Number of Passengers Survived:= 342\")\n",
    "print(\"Total Number of Male Passengers Survived:= 109\")\n",
    "print(\"Total Number of Female Passengers Survived:= 233\")"
   ]
  },
  {
   "cell_type": "code",
   "execution_count": null,
   "id": "e9822233-2219-49d4-ba9e-7f4ac4bf1c5b",
   "metadata": {},
   "outputs": [],
   "source": [
    "# HOW MUCH PASSENGERS DIED?\n",
    "# HOW MUCH MALE AND FEMALE PASSENGER DIED?"
   ]
  },
  {
   "cell_type": "code",
   "execution_count": 26,
   "id": "b6d1c4b8-b912-4f62-ad39-e502b80195bd",
   "metadata": {},
   "outputs": [
    {
     "data": {
      "text/plain": [
       "(549, 12)"
      ]
     },
     "execution_count": 26,
     "metadata": {},
     "output_type": "execute_result"
    }
   ],
   "source": [
    "df[(df.Survived==0)].shape "
   ]
  },
  {
   "cell_type": "code",
   "execution_count": 28,
   "id": "088117fd-def3-42bb-95c0-1f04767d6ade",
   "metadata": {},
   "outputs": [
    {
     "data": {
      "text/plain": [
       "(468, 12)"
      ]
     },
     "execution_count": 28,
     "metadata": {},
     "output_type": "execute_result"
    }
   ],
   "source": [
    "df[(df.Survived==0) & (df.gender==\"male\")].shape"
   ]
  },
  {
   "cell_type": "code",
   "execution_count": 29,
   "id": "4a9291ef-e8db-4303-8396-edf285090a9f",
   "metadata": {},
   "outputs": [
    {
     "data": {
      "text/plain": [
       "(81, 12)"
      ]
     },
     "execution_count": 29,
     "metadata": {},
     "output_type": "execute_result"
    }
   ],
   "source": [
    "df[(df.Survived==0) & (df.gender==\"female\")].shape"
   ]
  },
  {
   "cell_type": "code",
   "execution_count": 30,
   "id": "57ce6776-981c-44f2-841e-992b393593ab",
   "metadata": {},
   "outputs": [
    {
     "name": "stdout",
     "output_type": "stream",
     "text": [
      "Total Number of Passengers Died:= 549\n",
      "Total Number of Male Passengers Died:= 468\n",
      "Total Number of Female Passengers Died:= 81\n"
     ]
    }
   ],
   "source": [
    "print(\"Total Number of Passengers Died:= 549\")\n",
    "print(\"Total Number of Male Passengers Died:= 468\")\n",
    "print(\"Total Number of Female Passengers Died:= 81\")"
   ]
  },
  {
   "cell_type": "code",
   "execution_count": 31,
   "id": "7daf017d-2b63-4424-9ea1-5f15ae90e19b",
   "metadata": {},
   "outputs": [],
   "source": [
    "# PERCENTAGE % OF PASSENGERS SURVIVED  AND DIED"
   ]
  },
  {
   "cell_type": "code",
   "execution_count": 6,
   "id": "e95a8685-69a3-4550-a5a1-13a3780f353b",
   "metadata": {},
   "outputs": [
    {
     "name": "stdout",
     "output_type": "stream",
     "text": [
      "Total Number of Passengers Survived:= 342\n",
      "Percentage % of Passengers Survived:= 38.38383838383838 %\n"
     ]
    }
   ],
   "source": [
    "print(\"Total Number of Passengers Survived:= 342\")\n",
    "print(\"Percentage % of Passengers Survived:=\",(342/891)*100,\"%\") #total passenger survived/total passengers"
   ]
  },
  {
   "cell_type": "code",
   "execution_count": 1,
   "id": "7ca6ede1-bc81-4e78-86c7-2a1a12812804",
   "metadata": {},
   "outputs": [
    {
     "name": "stdout",
     "output_type": "stream",
     "text": [
      "Total Number of Passengers Died:= 549\n",
      "Percentage % of Passengers Died:= 61.61616161616161 %\n"
     ]
    }
   ],
   "source": [
    "print(\"Total Number of Passengers Died:= 549\")\n",
    "print(\"Percentage % of Passengers Died:=\",(549/891)*100,\"%\") #total passenger died/total passengers"
   ]
  },
  {
   "cell_type": "code",
   "execution_count": null,
   "id": "5d1671d6-3648-49da-9902-8ee462280000",
   "metadata": {},
   "outputs": [],
   "source": [
    "# PERCENTAGE % OF MALE AND FEMALE DIED"
   ]
  },
  {
   "cell_type": "code",
   "execution_count": 34,
   "id": "5bad67e4-d196-4439-ac84-360c2d907c9c",
   "metadata": {},
   "outputs": [
    {
     "name": "stdout",
     "output_type": "stream",
     "text": [
      "Total Number of Male Passengers Died:= 468\n",
      "Percentage % of Male Passengers Died:= 81.10918544194108 %\n"
     ]
    }
   ],
   "source": [
    "print(\"Total Number of Male Passengers Died:= 468\")\n",
    "print(\"Percentage % of Male Passengers Died:=\",(468/577)*100,\"%\") #total male passenger died/total male passengers"
   ]
  },
  {
   "cell_type": "code",
   "execution_count": 35,
   "id": "3ebe034f-5e2f-4ea9-b428-098367077aaf",
   "metadata": {},
   "outputs": [
    {
     "name": "stdout",
     "output_type": "stream",
     "text": [
      "Total Number of Female Passengers Died:= 81\n",
      "Percentage % of Female Passengers Died:= 25.796178343949045 %\n"
     ]
    }
   ],
   "source": [
    "print(\"Total Number of Female Passengers Died:= 81\")\n",
    "print(\"Percentage % of Female Passengers Died:=\",(81/314)*100,\"%\") #total female passenger died/total female passengers"
   ]
  },
  {
   "cell_type": "code",
   "execution_count": 3,
   "id": "513c4d08-1d10-4dcd-afd3-e36a78e34c31",
   "metadata": {},
   "outputs": [],
   "source": [
    "# PERCENTAGE % OF MALE AND FEMALE SURVIVED"
   ]
  },
  {
   "cell_type": "code",
   "execution_count": 4,
   "id": "8bda8982-eb04-4184-8b22-b7690eb9c051",
   "metadata": {},
   "outputs": [
    {
     "name": "stdout",
     "output_type": "stream",
     "text": [
      "Total Number of Male Passengers Survived:= 109\n",
      "Percentage % of Male Passengers Survived:= 18.890814558058924 %\n"
     ]
    }
   ],
   "source": [
    "print(\"Total Number of Male Passengers Survived:= 109\")\n",
    "print(\"Percentage % of Male Passengers Survived:=\",(109/577)*100,\"%\") #total male passenger survived/total male passengers"
   ]
  },
  {
   "cell_type": "code",
   "execution_count": 5,
   "id": "1a3efda6-a741-4a98-9da6-d5fae2ef7dfe",
   "metadata": {},
   "outputs": [
    {
     "name": "stdout",
     "output_type": "stream",
     "text": [
      "Total Number of Female Passengers Survived:= 233\n",
      "Percentage % of Female Passengers Survived:= 74.20382165605095 %\n"
     ]
    }
   ],
   "source": [
    "print(\"Total Number of Female Passengers Survived:= 233\")\n",
    "print(\"Percentage % of Female Passengers Survived:=\",(233/314)*100,\"%\") #total female passenger survived/total female passengers"
   ]
  },
  {
   "cell_type": "code",
   "execution_count": 8,
   "id": "d0d6f567-6871-402d-b7ec-27fd2aad48d9",
   "metadata": {},
   "outputs": [
    {
     "name": "stdout",
     "output_type": "stream",
     "text": [
      "Percentage % of Passengers Survived:= 38.38383838383838 %\n",
      "Percentage % of Passengers Died:= 61.61616161616161 %\n",
      "\n",
      "Percentage % of Male Passengers Survived:= 18.890814558058924 %\n",
      "Percentage % of Female Passengers Survived:= 74.20382165605095 %\n",
      "\n",
      "Percentage % of Male Passengers Died:= 81.10918544194108 %\n",
      "Percentage % of Female Passengers Died:= 25.796178343949045 %\n"
     ]
    }
   ],
   "source": [
    "print(\"Percentage % of Passengers Survived:=\",(342/891)*100,\"%\")\n",
    "print(\"Percentage % of Passengers Died:=\",(549/891)*100,\"%\")\n",
    "print()\n",
    "print(\"Percentage % of Male Passengers Survived:=\",(109/577)*100,\"%\")\n",
    "print(\"Percentage % of Female Passengers Survived:=\",(233/314)*100,\"%\")\n",
    "print()\n",
    "print(\"Percentage % of Male Passengers Died:=\",(468/577)*100,\"%\")\n",
    "print(\"Percentage % of Female Passengers Died:=\",(81/314)*100,\"%\")"
   ]
  },
  {
   "cell_type": "code",
   "execution_count": 36,
   "id": "861beafe-be72-4d11-878c-52fc3d607313",
   "metadata": {},
   "outputs": [],
   "source": [
    "# RESULTS SHOWS THE MALE CASUALITIES ARE HIGHER THAN FEMALE CASUALITIES"
   ]
  },
  {
   "cell_type": "code",
   "execution_count": 37,
   "id": "b16404c6-6ffd-4248-9264-f0bbee304f80",
   "metadata": {},
   "outputs": [],
   "source": [
    "# HOW MUCH PASSENGERS ARE IN CLASS 1,2,AND 3?\n",
    " # HOW MUCH MALE IN FEMALE PASSENGERS IN CLASS 1,2,AND 3?"
   ]
  },
  {
   "cell_type": "code",
   "execution_count": 39,
   "id": "cde7db5e-2a5d-4606-9b2d-0f84e2a85fbe",
   "metadata": {},
   "outputs": [
    {
     "data": {
      "text/plain": [
       "(216, 12)"
      ]
     },
     "execution_count": 39,
     "metadata": {},
     "output_type": "execute_result"
    }
   ],
   "source": [
    "df[df.Pclass==1].shape"
   ]
  },
  {
   "cell_type": "code",
   "execution_count": 40,
   "id": "802e6913-1c13-4d0e-81e1-8f2403178b14",
   "metadata": {},
   "outputs": [
    {
     "data": {
      "text/plain": [
       "(184, 12)"
      ]
     },
     "execution_count": 40,
     "metadata": {},
     "output_type": "execute_result"
    }
   ],
   "source": [
    "df[df.Pclass==2].shape"
   ]
  },
  {
   "cell_type": "code",
   "execution_count": 41,
   "id": "c0b28f43-2dca-4386-bd44-3cf266b26908",
   "metadata": {},
   "outputs": [
    {
     "data": {
      "text/plain": [
       "(491, 12)"
      ]
     },
     "execution_count": 41,
     "metadata": {},
     "output_type": "execute_result"
    }
   ],
   "source": [
    "df[df.Pclass==3].shape"
   ]
  },
  {
   "cell_type": "code",
   "execution_count": 43,
   "id": "30e065a0-870a-4fef-9d1d-b9650e308a25",
   "metadata": {},
   "outputs": [
    {
     "name": "stdout",
     "output_type": "stream",
     "text": [
      "Total Number of Pasengers in class 1:=216\n",
      "Total Number of Pasengers in class 2:=184\n",
      "Total Number of Pasengers in class 3:=491\n"
     ]
    }
   ],
   "source": [
    "print(\"Total Number of Pasengers in class 1:=216\")\n",
    "print(\"Total Number of Pasengers in class 2:=184\")\n",
    "print(\"Total Number of Pasengers in class 3:=491\")"
   ]
  },
  {
   "cell_type": "code",
   "execution_count": 44,
   "id": "dce9f48d-c59d-4a77-828d-07d305d9016b",
   "metadata": {},
   "outputs": [
    {
     "data": {
      "text/plain": [
       "(122, 12)"
      ]
     },
     "execution_count": 44,
     "metadata": {},
     "output_type": "execute_result"
    }
   ],
   "source": [
    "df[(df.Pclass==1)&(df.gender==\"male\")].shape"
   ]
  },
  {
   "cell_type": "code",
   "execution_count": 45,
   "id": "51077aec-267d-41a6-89e5-5f532a43868e",
   "metadata": {},
   "outputs": [
    {
     "data": {
      "text/plain": [
       "(94, 12)"
      ]
     },
     "execution_count": 45,
     "metadata": {},
     "output_type": "execute_result"
    }
   ],
   "source": [
    "df[(df.Pclass==1)&(df.gender==\"female\")].shape"
   ]
  },
  {
   "cell_type": "code",
   "execution_count": 46,
   "id": "68bb7db2-280c-4159-a1fe-91829bf1f87e",
   "metadata": {},
   "outputs": [
    {
     "name": "stdout",
     "output_type": "stream",
     "text": [
      "Total Number of Male Pasengers in class 1:=122\n",
      "Total Number of Female Pasengers in class 1:=94\n"
     ]
    }
   ],
   "source": [
    "print(\"Total Number of Male Pasengers in class 1:=122\")\n",
    "print(\"Total Number of Female Pasengers in class 1:=94\")"
   ]
  },
  {
   "cell_type": "code",
   "execution_count": 47,
   "id": "c4636f78-a76f-4997-a3c1-908c2c6d8b58",
   "metadata": {},
   "outputs": [
    {
     "data": {
      "text/plain": [
       "(108, 12)"
      ]
     },
     "execution_count": 47,
     "metadata": {},
     "output_type": "execute_result"
    }
   ],
   "source": [
    "df[(df.Pclass==2)&(df.gender==\"male\")].shape"
   ]
  },
  {
   "cell_type": "code",
   "execution_count": 48,
   "id": "9af5da40-9631-4c87-81e3-598d341dac5d",
   "metadata": {},
   "outputs": [
    {
     "data": {
      "text/plain": [
       "(76, 12)"
      ]
     },
     "execution_count": 48,
     "metadata": {},
     "output_type": "execute_result"
    }
   ],
   "source": [
    "df[(df.Pclass==2)&(df.gender==\"female\")].shape"
   ]
  },
  {
   "cell_type": "code",
   "execution_count": 49,
   "id": "e90f7732-4b51-4edc-90fb-77b5f3bcc890",
   "metadata": {},
   "outputs": [
    {
     "name": "stdout",
     "output_type": "stream",
     "text": [
      "Total Number of Male Pasengers in class 2:=108\n",
      "Total Number of Female Pasengers in class 2:=76\n"
     ]
    }
   ],
   "source": [
    "print(\"Total Number of Male Pasengers in class 2:=108\")\n",
    "print(\"Total Number of Female Pasengers in class 2:=76\")"
   ]
  },
  {
   "cell_type": "code",
   "execution_count": 50,
   "id": "54fc4322-b258-4d02-ab1c-1b6f5539848c",
   "metadata": {},
   "outputs": [
    {
     "data": {
      "text/plain": [
       "(347, 12)"
      ]
     },
     "execution_count": 50,
     "metadata": {},
     "output_type": "execute_result"
    }
   ],
   "source": [
    "df[(df.Pclass==3)&(df.gender==\"male\")].shape"
   ]
  },
  {
   "cell_type": "code",
   "execution_count": 51,
   "id": "be95d87b-2c9d-4c57-9b07-41577b737c13",
   "metadata": {},
   "outputs": [
    {
     "data": {
      "text/plain": [
       "(144, 12)"
      ]
     },
     "execution_count": 51,
     "metadata": {},
     "output_type": "execute_result"
    }
   ],
   "source": [
    "df[(df.Pclass==3)&(df.gender==\"female\")].shape"
   ]
  },
  {
   "cell_type": "code",
   "execution_count": 52,
   "id": "51588ed0-bd32-4f02-aace-761475c9a847",
   "metadata": {},
   "outputs": [
    {
     "name": "stdout",
     "output_type": "stream",
     "text": [
      "Total Number of Male Pasengers in class 3:=347\n",
      "Total Number of Female Pasengers in class 3:=144\n"
     ]
    }
   ],
   "source": [
    "print(\"Total Number of Male Pasengers in class 3:=347\")\n",
    "print(\"Total Number of Female Pasengers in class 3:=144\")"
   ]
  },
  {
   "cell_type": "code",
   "execution_count": 64,
   "id": "e873db6c-0d75-4e07-b536-15e40104e2d7",
   "metadata": {},
   "outputs": [
    {
     "name": "stdout",
     "output_type": "stream",
     "text": [
      "Total Number of Pasengers in class 1:=216\n",
      "Total Number of Pasengers in class 2:=184\n",
      "Total Number of Pasengers in class 3:=491\n",
      "\n",
      "Total Number of Male Pasengers in class 1:=122\n",
      "Total Number of Female Pasengers in class 1:=94\n",
      "\n",
      "Total Number of Male Pasengers in class 2:=108\n",
      "Total Number of Female Pasengers in class 2:=76\n",
      "\n",
      "Total Number of Male Pasengers in class 3:=347\n",
      "Total Number of Female Pasengers in class 3:=144\n"
     ]
    }
   ],
   "source": [
    "# total passnegers in class 1,2,and3\n",
    "print(\"Total Number of Pasengers in class 1:=216\")\n",
    "print(\"Total Number of Pasengers in class 2:=184\")\n",
    "print(\"Total Number of Pasengers in class 3:=491\")\n",
    "print()\n",
    "# total amle and female passengers in class1,2and3\n",
    "print(\"Total Number of Male Pasengers in class 1:=122\")\n",
    "print(\"Total Number of Female Pasengers in class 1:=94\")\n",
    "print()\n",
    "print(\"Total Number of Male Pasengers in class 2:=108\")\n",
    "print(\"Total Number of Female Pasengers in class 2:=76\")\n",
    "print()\n",
    "print(\"Total Number of Male Pasengers in class 3:=347\")\n",
    "print(\"Total Number of Female Pasengers in class 3:=144\")"
   ]
  },
  {
   "cell_type": "code",
   "execution_count": 53,
   "id": "d12809c6-428d-4058-a0d0-1f3d08006726",
   "metadata": {},
   "outputs": [],
   "source": [
    "# TOTAL NUMBER OF PASSENGERS SURVIVED AND DIED IN CLASS 1,2,AND 3\n",
    "# TOTAL NUMBER OF mALE AND FEMALE PASSENGERS SURVIVED AND DIED IN CLASS 1,2,AND3"
   ]
  },
  {
   "cell_type": "code",
   "execution_count": 54,
   "id": "f8dad8b4-139d-4b58-97e9-33f8691a2639",
   "metadata": {},
   "outputs": [
    {
     "data": {
      "text/plain": [
       "(136, 12)"
      ]
     },
     "execution_count": 54,
     "metadata": {},
     "output_type": "execute_result"
    }
   ],
   "source": [
    "df[(df.Pclass==1)&(df.Survived==1)].shape"
   ]
  },
  {
   "cell_type": "code",
   "execution_count": 55,
   "id": "85b3a8b9-ab08-4480-bf87-a475c638a59d",
   "metadata": {},
   "outputs": [
    {
     "data": {
      "text/plain": [
       "(80, 12)"
      ]
     },
     "execution_count": 55,
     "metadata": {},
     "output_type": "execute_result"
    }
   ],
   "source": [
    "df[(df.Pclass==1)&(df.Survived==0)].shape"
   ]
  },
  {
   "cell_type": "code",
   "execution_count": 56,
   "id": "a6d2d512-df83-4a41-abf6-a308db6d162f",
   "metadata": {},
   "outputs": [
    {
     "name": "stdout",
     "output_type": "stream",
     "text": [
      "Total Number of Passengers Survived in Class 1:=136\n",
      "Total Number of Passengers Died in Class 1:=80\n"
     ]
    }
   ],
   "source": [
    "print(\"Total Number of Passengers Survived in Class 1:=136\")\n",
    "print(\"Total Number of Passengers Died in Class 1:=80\")"
   ]
  },
  {
   "cell_type": "code",
   "execution_count": 65,
   "id": "00a5825b-0713-4301-99f8-85be66320045",
   "metadata": {},
   "outputs": [],
   "source": [
    "# get gender also\n",
    "#CLASS 1"
   ]
  },
  {
   "cell_type": "code",
   "execution_count": 68,
   "id": "88f5bda0-26ba-4959-96de-676cb6adaec7",
   "metadata": {},
   "outputs": [
    {
     "data": {
      "text/plain": [
       "(45, 12)"
      ]
     },
     "execution_count": 68,
     "metadata": {},
     "output_type": "execute_result"
    }
   ],
   "source": [
    "df[(df.Pclass==1)&(df.Survived==1)&(df.gender==\"male\")].shape"
   ]
  },
  {
   "cell_type": "code",
   "execution_count": 69,
   "id": "1451602c-4910-4f01-a9ac-60e3f2b77e8d",
   "metadata": {},
   "outputs": [
    {
     "data": {
      "text/plain": [
       "(91, 12)"
      ]
     },
     "execution_count": 69,
     "metadata": {},
     "output_type": "execute_result"
    }
   ],
   "source": [
    "df[(df.Pclass==1)&(df.Survived==1)&(df.gender==\"female\")].shape"
   ]
  },
  {
   "cell_type": "code",
   "execution_count": 70,
   "id": "56cc98dc-ac5a-405d-a9f2-2d0bf5179088",
   "metadata": {},
   "outputs": [
    {
     "name": "stdout",
     "output_type": "stream",
     "text": [
      "Total Number of Male Passengers Survived in Class 1:=45\n",
      "Total Number of Female Passengers Survived in Class 1:=91\n"
     ]
    }
   ],
   "source": [
    "print(\"Total Number of Male Passengers Survived in Class 1:=45\")\n",
    "print(\"Total Number of Female Passengers Survived in Class 1:=91\")"
   ]
  },
  {
   "cell_type": "code",
   "execution_count": 71,
   "id": "96a39dba-ded3-481e-b785-611dfc7677e8",
   "metadata": {},
   "outputs": [
    {
     "data": {
      "text/plain": [
       "(77, 12)"
      ]
     },
     "execution_count": 71,
     "metadata": {},
     "output_type": "execute_result"
    }
   ],
   "source": [
    "df[(df.Pclass==1)&(df.Survived==0)&(df.gender==\"male\")].shape"
   ]
  },
  {
   "cell_type": "code",
   "execution_count": 72,
   "id": "7f85a0c1-e822-42d4-9f3e-cebc9414df3b",
   "metadata": {},
   "outputs": [
    {
     "data": {
      "text/plain": [
       "(3, 12)"
      ]
     },
     "execution_count": 72,
     "metadata": {},
     "output_type": "execute_result"
    }
   ],
   "source": [
    "df[(df.Pclass==1)&(df.Survived==0)&(df.gender==\"female\")].shape"
   ]
  },
  {
   "cell_type": "code",
   "execution_count": 73,
   "id": "bcbb3a5e-5e52-45ab-8ecf-ba1c5e0ea436",
   "metadata": {},
   "outputs": [
    {
     "name": "stdout",
     "output_type": "stream",
     "text": [
      "Total Number of Male Passengers Died in Class 1:=77\n",
      "Total Number of Female Passengers Died in Class 1:=3\n"
     ]
    }
   ],
   "source": [
    "print(\"Total Number of Male Passengers Died in Class 1:=77\")\n",
    "print(\"Total Number of Female Passengers Died in Class 1:=3\")"
   ]
  },
  {
   "cell_type": "code",
   "execution_count": null,
   "id": "2bd66605-54a5-45fb-8835-0c08d6c1fe95",
   "metadata": {},
   "outputs": [],
   "source": [
    "#CLASS 2"
   ]
  },
  {
   "cell_type": "code",
   "execution_count": 16,
   "id": "62e75e17-c64c-4ca7-afcd-7fd77d8576fe",
   "metadata": {},
   "outputs": [
    {
     "data": {
      "text/plain": [
       "(87, 12)"
      ]
     },
     "execution_count": 16,
     "metadata": {},
     "output_type": "execute_result"
    }
   ],
   "source": [
    "df[(df.Pclass==2)&(df.Survived==1)].shape"
   ]
  },
  {
   "cell_type": "code",
   "execution_count": 17,
   "id": "4d88b97a-f282-4af9-bb67-6a20fb98deaa",
   "metadata": {},
   "outputs": [
    {
     "data": {
      "text/plain": [
       "(97, 12)"
      ]
     },
     "execution_count": 17,
     "metadata": {},
     "output_type": "execute_result"
    }
   ],
   "source": [
    "df[(df.Pclass==2)&(df.Survived==0)].shape"
   ]
  },
  {
   "cell_type": "code",
   "execution_count": 20,
   "id": "21626665-d4e5-43bf-b0bd-c1fba313f9f8",
   "metadata": {},
   "outputs": [
    {
     "name": "stdout",
     "output_type": "stream",
     "text": [
      "Total Number of Passengers Survived in Class 2:=87\n",
      "Total Number of Passengers Died in Class 2:=97\n"
     ]
    }
   ],
   "source": [
    "print(\"Total Number of Passengers Survived in Class 2:=87\")\n",
    "print(\"Total Number of Passengers Died in Class 2:=97\")"
   ]
  },
  {
   "cell_type": "code",
   "execution_count": 74,
   "id": "04b4c82d-2d46-47ff-9d51-c80ab48fa9b3",
   "metadata": {},
   "outputs": [
    {
     "data": {
      "text/plain": [
       "(17, 12)"
      ]
     },
     "execution_count": 74,
     "metadata": {},
     "output_type": "execute_result"
    }
   ],
   "source": [
    "df[(df.Pclass==2)&(df.Survived==1)&(df.gender==\"male\")].shape"
   ]
  },
  {
   "cell_type": "code",
   "execution_count": 75,
   "id": "df0f2285-3c03-4e15-bf2f-76a355c9df1e",
   "metadata": {},
   "outputs": [
    {
     "data": {
      "text/plain": [
       "(70, 12)"
      ]
     },
     "execution_count": 75,
     "metadata": {},
     "output_type": "execute_result"
    }
   ],
   "source": [
    "df[(df.Pclass==2)&(df.Survived==1)&(df.gender==\"female\")].shape"
   ]
  },
  {
   "cell_type": "code",
   "execution_count": 76,
   "id": "da94af5a-f060-44fd-925f-8afc3ea7ef71",
   "metadata": {},
   "outputs": [
    {
     "name": "stdout",
     "output_type": "stream",
     "text": [
      "Total Number of Male Passengers Survived in Class 2:=17\n",
      "Total Number of Female Passengers Survived in Class 2:=70\n"
     ]
    }
   ],
   "source": [
    "print(\"Total Number of Male Passengers Survived in Class 2:=17\")\n",
    "print(\"Total Number of Female Passengers Survived in Class 2:=70\")"
   ]
  },
  {
   "cell_type": "code",
   "execution_count": 77,
   "id": "afdfc3e3-b974-4e14-83ff-74362d9052bb",
   "metadata": {},
   "outputs": [
    {
     "data": {
      "text/plain": [
       "(91, 12)"
      ]
     },
     "execution_count": 77,
     "metadata": {},
     "output_type": "execute_result"
    }
   ],
   "source": [
    "df[(df.Pclass==2)&(df.Survived==0)&(df.gender==\"male\")].shape"
   ]
  },
  {
   "cell_type": "code",
   "execution_count": 78,
   "id": "df87150e-60ea-4530-9ad7-7b42ecea82ab",
   "metadata": {},
   "outputs": [
    {
     "data": {
      "text/plain": [
       "(6, 12)"
      ]
     },
     "execution_count": 78,
     "metadata": {},
     "output_type": "execute_result"
    }
   ],
   "source": [
    "df[(df.Pclass==2)&(df.Survived==0)&(df.gender==\"female\")].shape"
   ]
  },
  {
   "cell_type": "code",
   "execution_count": 80,
   "id": "c824ec28-64ee-4b74-8600-49fac7178184",
   "metadata": {},
   "outputs": [
    {
     "name": "stdout",
     "output_type": "stream",
     "text": [
      "Total Number of Male Passengers Died in Class 2:=91\n",
      "Total Number of Female Passengers Died in Class 2:=6\n"
     ]
    }
   ],
   "source": [
    "print(\"Total Number of Male Passengers Died in Class 2:=91\")\n",
    "print(\"Total Number of Female Passengers Died in Class 2:=6\")"
   ]
  },
  {
   "cell_type": "code",
   "execution_count": 19,
   "id": "a9840bb0-47da-4b59-a2a4-34883e2ea567",
   "metadata": {},
   "outputs": [],
   "source": [
    "#CLASS 3"
   ]
  },
  {
   "cell_type": "code",
   "execution_count": 21,
   "id": "28238e9a-1d33-4dff-b796-6a8f163e97a8",
   "metadata": {},
   "outputs": [
    {
     "data": {
      "text/plain": [
       "(119, 12)"
      ]
     },
     "execution_count": 21,
     "metadata": {},
     "output_type": "execute_result"
    }
   ],
   "source": [
    "df[(df.Pclass==3)&(df.Survived==1)].shape"
   ]
  },
  {
   "cell_type": "code",
   "execution_count": 22,
   "id": "bffb5871-3390-447d-9e19-b79f931c9834",
   "metadata": {},
   "outputs": [
    {
     "data": {
      "text/plain": [
       "(372, 12)"
      ]
     },
     "execution_count": 22,
     "metadata": {},
     "output_type": "execute_result"
    }
   ],
   "source": [
    "df[(df.Pclass==3)&(df.Survived==0)].shape"
   ]
  },
  {
   "cell_type": "code",
   "execution_count": 23,
   "id": "fcbb0df0-a916-4c4b-bd98-25281d84b220",
   "metadata": {},
   "outputs": [
    {
     "name": "stdout",
     "output_type": "stream",
     "text": [
      "Total Number of Passengers Survived in Class 3:=119\n",
      "Total Number of Passengers Died in Class 3:=372\n"
     ]
    }
   ],
   "source": [
    "print(\"Total Number of Passengers Survived in Class 3:=119\")\n",
    "print(\"Total Number of Passengers Died in Class 3:=372\")"
   ]
  },
  {
   "cell_type": "code",
   "execution_count": 83,
   "id": "8a971b68-6b8c-4800-afdc-f0e82d53d85b",
   "metadata": {},
   "outputs": [
    {
     "data": {
      "text/plain": [
       "(47, 12)"
      ]
     },
     "execution_count": 83,
     "metadata": {},
     "output_type": "execute_result"
    }
   ],
   "source": [
    "df[(df.Pclass==3)&(df.Survived==1)&(df.gender==\"male\")].shape"
   ]
  },
  {
   "cell_type": "code",
   "execution_count": 84,
   "id": "85e7e458-20aa-4e7d-bf4a-73388817f57b",
   "metadata": {},
   "outputs": [
    {
     "data": {
      "text/plain": [
       "(72, 12)"
      ]
     },
     "execution_count": 84,
     "metadata": {},
     "output_type": "execute_result"
    }
   ],
   "source": [
    "df[(df.Pclass==3)&(df.Survived==1)&(df.gender==\"female\")].shape"
   ]
  },
  {
   "cell_type": "code",
   "execution_count": 85,
   "id": "db3eaa42-85f5-451f-a9e6-e0f485c192a3",
   "metadata": {},
   "outputs": [
    {
     "name": "stdout",
     "output_type": "stream",
     "text": [
      "Total Number of Male Passengers Survived in Class 3:=47\n",
      "Total Number of Female Passengers Survived in Class 3:=72\n"
     ]
    }
   ],
   "source": [
    "print(\"Total Number of Male Passengers Survived in Class 3:=47\")\n",
    "print(\"Total Number of Female Passengers Survived in Class 3:=72\")"
   ]
  },
  {
   "cell_type": "code",
   "execution_count": 86,
   "id": "b9495cfe-4d83-47fb-bf86-fbbfe2797eca",
   "metadata": {},
   "outputs": [
    {
     "data": {
      "text/plain": [
       "(300, 12)"
      ]
     },
     "execution_count": 86,
     "metadata": {},
     "output_type": "execute_result"
    }
   ],
   "source": [
    "df[(df.Pclass==3)&(df.Survived==0)&(df.gender==\"male\")].shape"
   ]
  },
  {
   "cell_type": "code",
   "execution_count": 89,
   "id": "f635c6a2-fa2e-41a5-9a61-45701fde44bb",
   "metadata": {},
   "outputs": [
    {
     "data": {
      "text/plain": [
       "(72, 12)"
      ]
     },
     "execution_count": 89,
     "metadata": {},
     "output_type": "execute_result"
    }
   ],
   "source": [
    "df[(df.Pclass==3)&(df.Survived==0)&(df.gender==\"female\")].shape"
   ]
  },
  {
   "cell_type": "code",
   "execution_count": 90,
   "id": "5bc12dd3-33e9-49eb-8244-0f31c8a53a29",
   "metadata": {},
   "outputs": [
    {
     "name": "stdout",
     "output_type": "stream",
     "text": [
      "Total Number of Male Passengers Died in Class 3:=300\n",
      "Total Number of Female Passengers Died in Class 3:=72\n"
     ]
    }
   ],
   "source": [
    "print(\"Total Number of Male Passengers Died in Class 3:=300\")\n",
    "print(\"Total Number of Female Passengers Died in Class 3:=72\")"
   ]
  },
  {
   "cell_type": "code",
   "execution_count": 81,
   "id": "36dfd85c-d061-4847-8046-060673ab9dbd",
   "metadata": {},
   "outputs": [],
   "source": [
    "# PERCENTAGE % OF MALE AND FEMALE SURVIVED AND DIED IN CLASS 1,2,AND 3"
   ]
  },
  {
   "cell_type": "code",
   "execution_count": 92,
   "id": "1d28cc37-95b7-474f-a7a0-65a2a3d08100",
   "metadata": {},
   "outputs": [
    {
     "name": "stdout",
     "output_type": "stream",
     "text": [
      "Total Number of Male Passengers Died in class 1:= 77\n",
      "Percentage % of Male Passengers Died in class 1:= 63.114754098360656 %\n"
     ]
    }
   ],
   "source": [
    "print(\"Total Number of Male Passengers Died in class 1:= 77\")\n",
    "print(\"Percentage % of Male Passengers Died in class 1:=\",(77/122)*100,\"%\") #total male passenger died/total male passengers"
   ]
  },
  {
   "cell_type": "code",
   "execution_count": 93,
   "id": "fb2155d7-4a61-433b-95b1-e79ba7b9697c",
   "metadata": {},
   "outputs": [
    {
     "name": "stdout",
     "output_type": "stream",
     "text": [
      "Total Number of Female Passengers Died in class 1:= 3\n",
      "Percentage % of Female Passengers Died in class 1:= 3.1914893617021276 %\n"
     ]
    }
   ],
   "source": [
    "print(\"Total Number of Female Passengers Died in class 1:= 3\")\n",
    "print(\"Percentage % of Female Passengers Died in class 1:=\",(3/94)*100,\"%\") #total female passenger died/total female passengers"
   ]
  },
  {
   "cell_type": "code",
   "execution_count": 94,
   "id": "4db75a93-48be-4086-8ef5-7539d9b58d9f",
   "metadata": {},
   "outputs": [
    {
     "name": "stdout",
     "output_type": "stream",
     "text": [
      "Total Number of Male Passengers Died in class 2:= 97\n",
      "Percentage % of Male Passengers Died in class 2:= 52.71739130434783 %\n"
     ]
    }
   ],
   "source": [
    "print(\"Total Number of Male Passengers Died in class 2:= 97\")\n",
    "print(\"Percentage % of Male Passengers Died in class 2:=\",(97/184)*100,\"%\") #total male passenger died/total male passengers"
   ]
  },
  {
   "cell_type": "code",
   "execution_count": 95,
   "id": "bcf4787a-18c0-4715-bf1c-bb64a10cd923",
   "metadata": {},
   "outputs": [
    {
     "name": "stdout",
     "output_type": "stream",
     "text": [
      "Total Number of Female Passengers Died in class 2:= 6\n",
      "Percentage % of Female Passengers Died in class 2:= 7.894736842105263 %\n"
     ]
    }
   ],
   "source": [
    "print(\"Total Number of Female Passengers Died in class 2:= 6\")\n",
    "print(\"Percentage % of Female Passengers Died in class 2:=\",(6/76)*100,\"%\") #total female passenger died/total female passengers"
   ]
  },
  {
   "cell_type": "code",
   "execution_count": 97,
   "id": "d1a8855e-9503-4b74-9cf0-6ae6829848f1",
   "metadata": {},
   "outputs": [
    {
     "name": "stdout",
     "output_type": "stream",
     "text": [
      "Total Number of Male Passengers Died in class 3:= 300\n",
      "Percentage % of Male Passengers Died in class 3:= 86.45533141210375 %\n"
     ]
    }
   ],
   "source": [
    "print(\"Total Number of Male Passengers Died in class 3:= 300\")\n",
    "print(\"Percentage % of Male Passengers Died in class 3:=\",(300/347)*100,\"%\") #total male passenger died/total male passengers"
   ]
  },
  {
   "cell_type": "code",
   "execution_count": 98,
   "id": "1e018650-392e-4b88-85e3-a7c7fdc5ed58",
   "metadata": {},
   "outputs": [
    {
     "name": "stdout",
     "output_type": "stream",
     "text": [
      "Total Number of Female Passengers Died in class 3:= 72\n",
      "Percentage % of Female Passengers Died in class 3:= 50.0 %\n"
     ]
    }
   ],
   "source": [
    "print(\"Total Number of Female Passengers Died in class 3:= 72\")\n",
    "print(\"Percentage % of Female Passengers Died in class 3:=\",(72/144)*100,\"%\") #total male passenger died/total male passengers"
   ]
  },
  {
   "cell_type": "code",
   "execution_count": 27,
   "id": "c1343857-2543-407d-b298-4dcf0616cbe6",
   "metadata": {},
   "outputs": [
    {
     "name": "stdout",
     "output_type": "stream",
     "text": [
      "Percentage % of Male Passengers Died in class 1:= 63.114754098360656 %\n",
      "Percentage % of Female Passengers Died in class 1:= 3.1914893617021276 %\n",
      "\n",
      "Percentage % of Male Passengers Died in class 2:= 84.25925925925925 %\n",
      "Percentage % of Female Passengers Died in class 2:= 7.894736842105263 %\n",
      "\n",
      "Percentage % of Male Passengers Died in class 3:= 86.45533141210375 %\n",
      "Percentage % of Female Passengers Died in class 3:= 50.0 %\n"
     ]
    }
   ],
   "source": [
    "print(\"Percentage % of Male Passengers Died in class 1:=\",(77/122)*100,\"%\")\n",
    "print(\"Percentage % of Female Passengers Died in class 1:=\",(3/94)*100,\"%\")\n",
    "print()\n",
    "print(\"Percentage % of Male Passengers Died in class 2:=\",(91/108)*100,\"%\")\n",
    "print(\"Percentage % of Female Passengers Died in class 2:=\",(6/76)*100,\"%\")\n",
    "print()\n",
    "print(\"Percentage % of Male Passengers Died in class 3:=\",(300/347)*100,\"%\") \n",
    "print(\"Percentage % of Female Passengers Died in class 3:=\",(72/144)*100,\"%\")"
   ]
  },
  {
   "cell_type": "code",
   "execution_count": 28,
   "id": "2e043f85-4f4c-41a7-b6c1-a8da1ae1cd0e",
   "metadata": {},
   "outputs": [
    {
     "name": "stdout",
     "output_type": "stream",
     "text": [
      "Percentage % of Male Passengers Survived in class 1:= 36.885245901639344 %\n",
      "Percentage % of Female Passengers Survived in class 1:= 96.80851063829788 %\n",
      "\n",
      "Percentage % of Male Passengers Survived in class 2:= 15.74074074074074 %\n",
      "Percentage % of Female Passengers Survived in class 2:= 92.10526315789474 %\n",
      "\n",
      "Percentage % of Male Passengers Survived in class 3:= 13.544668587896252 %\n",
      "Percentage % of Female Passengers Survived in class 3:= 50.0 %\n"
     ]
    }
   ],
   "source": [
    "print(\"Percentage % of Male Passengers Survived in class 1:=\",(45/122)*100,\"%\")\n",
    "print(\"Percentage % of Female Passengers Survived in class 1:=\",(91/94)*100,\"%\")\n",
    "print()\n",
    "print(\"Percentage % of Male Passengers Survived in class 2:=\",(17/108)*100,\"%\")\n",
    "print(\"Percentage % of Female Passengers Survived in class 2:=\",(70/76)*100,\"%\")\n",
    "print()\n",
    "print(\"Percentage % of Male Passengers Survived in class 3:=\",(47/347)*100,\"%\") \n",
    "print(\"Percentage % of Female Passengers Survived in class 3:=\",(72/144)*100,\"%\")"
   ]
  },
  {
   "cell_type": "code",
   "execution_count": 29,
   "id": "9fee9b49-bf1e-4d20-ac32-a16424a0c76d",
   "metadata": {},
   "outputs": [
    {
     "name": "stdout",
     "output_type": "stream",
     "text": [
      "Total Number of Passengers Survived in Class 1:=136\n",
      "Total Number of Passengers Died in Class 1:=80\n",
      "\n",
      "Total Number of Passengers Survived in Class 2:=87\n",
      "Total Number of Passengers Died in Class 2:=97\n",
      "\n",
      "Total Number of Passengers Survived in Class 3:=119\n",
      "Total Number of Passengers Died in Class 3:=372\n"
     ]
    }
   ],
   "source": [
    "print(\"Total Number of Passengers Survived in Class 1:=136\")\n",
    "print(\"Total Number of Passengers Died in Class 1:=80\")\n",
    "print()\n",
    "print(\"Total Number of Passengers Survived in Class 2:=87\")\n",
    "print(\"Total Number of Passengers Died in Class 2:=97\")\n",
    "print()\n",
    "print(\"Total Number of Passengers Survived in Class 3:=119\")\n",
    "print(\"Total Number of Passengers Died in Class 3:=372\")"
   ]
  },
  {
   "cell_type": "code",
   "execution_count": 30,
   "id": "e53b2861-1ee0-4cd6-85f7-51184f044bf7",
   "metadata": {},
   "outputs": [
    {
     "name": "stdout",
     "output_type": "stream",
     "text": [
      "Percentage % of total Passengers Survived in class 1:= 62.96296296296296 %\n",
      "Percentage % of total Passengers Died in class 1:= 37.03703703703704 %\n",
      "\n",
      "Percentage % of total Passengers Survived in class 2:= 47.28260869565217 %\n",
      "Percentage % of total Passengers Died in class 2:= 52.71739130434783 %\n",
      "\n",
      "Percentage % of total Passengers Survived in class 3:= 24.236252545824847 %\n",
      "Percentage % of total Passengers Died in class 3:= 75.76374745417516 %\n"
     ]
    }
   ],
   "source": [
    "print(\"Percentage % of total Passengers Survived in class 1:=\",(136/216)*100,\"%\")\n",
    "print(\"Percentage % of total Passengers Died in class 1:=\",(80/216)*100,\"%\")\n",
    "print()\n",
    "print(\"Percentage % of total Passengers Survived in class 2:=\",(87/184)*100,\"%\")\n",
    "print(\"Percentage % of total Passengers Died in class 2:=\",(97/184)*100,\"%\")\n",
    "print()\n",
    "print(\"Percentage % of total Passengers Survived in class 3:=\",(119/491)*100,\"%\") \n",
    "print(\"Percentage % of total Passengers Died in class 3:=\",(372/491)*100,\"%\")"
   ]
  },
  {
   "cell_type": "code",
   "execution_count": 31,
   "id": "cefb7dd1-199c-413b-bc1c-841a34cd0045",
   "metadata": {},
   "outputs": [
    {
     "data": {
      "text/html": [
       "<div>\n",
       "<style scoped>\n",
       "    .dataframe tbody tr th:only-of-type {\n",
       "        vertical-align: middle;\n",
       "    }\n",
       "\n",
       "    .dataframe tbody tr th {\n",
       "        vertical-align: top;\n",
       "    }\n",
       "\n",
       "    .dataframe thead th {\n",
       "        text-align: right;\n",
       "    }\n",
       "</style>\n",
       "<table border=\"1\" class=\"dataframe\">\n",
       "  <thead>\n",
       "    <tr style=\"text-align: right;\">\n",
       "      <th></th>\n",
       "      <th>PassengerId</th>\n",
       "      <th>Survived</th>\n",
       "      <th>Pclass</th>\n",
       "      <th>Name</th>\n",
       "      <th>gender</th>\n",
       "      <th>Age</th>\n",
       "      <th>SibSp</th>\n",
       "      <th>Parch</th>\n",
       "      <th>Ticket</th>\n",
       "      <th>Fare</th>\n",
       "      <th>Cabin</th>\n",
       "      <th>Embarked</th>\n",
       "    </tr>\n",
       "  </thead>\n",
       "  <tbody>\n",
       "    <tr>\n",
       "      <th>0</th>\n",
       "      <td>1</td>\n",
       "      <td>0</td>\n",
       "      <td>3</td>\n",
       "      <td>Braund, Mr. Owen Harris</td>\n",
       "      <td>male</td>\n",
       "      <td>22.0</td>\n",
       "      <td>1</td>\n",
       "      <td>0</td>\n",
       "      <td>A/5 21171</td>\n",
       "      <td>7.2500</td>\n",
       "      <td>NaN</td>\n",
       "      <td>S</td>\n",
       "    </tr>\n",
       "    <tr>\n",
       "      <th>1</th>\n",
       "      <td>2</td>\n",
       "      <td>1</td>\n",
       "      <td>1</td>\n",
       "      <td>Cumings, Mrs. John Bradley (Florence Briggs Th...</td>\n",
       "      <td>female</td>\n",
       "      <td>38.0</td>\n",
       "      <td>1</td>\n",
       "      <td>0</td>\n",
       "      <td>PC 17599</td>\n",
       "      <td>71.2833</td>\n",
       "      <td>C85</td>\n",
       "      <td>C</td>\n",
       "    </tr>\n",
       "    <tr>\n",
       "      <th>2</th>\n",
       "      <td>3</td>\n",
       "      <td>1</td>\n",
       "      <td>3</td>\n",
       "      <td>Heikkinen, Miss. Laina</td>\n",
       "      <td>female</td>\n",
       "      <td>26.0</td>\n",
       "      <td>0</td>\n",
       "      <td>0</td>\n",
       "      <td>STON/O2. 3101282</td>\n",
       "      <td>7.9250</td>\n",
       "      <td>NaN</td>\n",
       "      <td>S</td>\n",
       "    </tr>\n",
       "    <tr>\n",
       "      <th>3</th>\n",
       "      <td>4</td>\n",
       "      <td>1</td>\n",
       "      <td>1</td>\n",
       "      <td>Futrelle, Mrs. Jacques Heath (Lily May Peel)</td>\n",
       "      <td>female</td>\n",
       "      <td>35.0</td>\n",
       "      <td>1</td>\n",
       "      <td>0</td>\n",
       "      <td>113803</td>\n",
       "      <td>53.1000</td>\n",
       "      <td>C123</td>\n",
       "      <td>S</td>\n",
       "    </tr>\n",
       "    <tr>\n",
       "      <th>4</th>\n",
       "      <td>5</td>\n",
       "      <td>0</td>\n",
       "      <td>3</td>\n",
       "      <td>Allen, Mr. William Henry</td>\n",
       "      <td>male</td>\n",
       "      <td>35.0</td>\n",
       "      <td>0</td>\n",
       "      <td>0</td>\n",
       "      <td>373450</td>\n",
       "      <td>8.0500</td>\n",
       "      <td>NaN</td>\n",
       "      <td>S</td>\n",
       "    </tr>\n",
       "    <tr>\n",
       "      <th>...</th>\n",
       "      <td>...</td>\n",
       "      <td>...</td>\n",
       "      <td>...</td>\n",
       "      <td>...</td>\n",
       "      <td>...</td>\n",
       "      <td>...</td>\n",
       "      <td>...</td>\n",
       "      <td>...</td>\n",
       "      <td>...</td>\n",
       "      <td>...</td>\n",
       "      <td>...</td>\n",
       "      <td>...</td>\n",
       "    </tr>\n",
       "    <tr>\n",
       "      <th>886</th>\n",
       "      <td>887</td>\n",
       "      <td>0</td>\n",
       "      <td>2</td>\n",
       "      <td>Montvila, Rev. Juozas</td>\n",
       "      <td>male</td>\n",
       "      <td>27.0</td>\n",
       "      <td>0</td>\n",
       "      <td>0</td>\n",
       "      <td>211536</td>\n",
       "      <td>13.0000</td>\n",
       "      <td>NaN</td>\n",
       "      <td>S</td>\n",
       "    </tr>\n",
       "    <tr>\n",
       "      <th>887</th>\n",
       "      <td>888</td>\n",
       "      <td>1</td>\n",
       "      <td>1</td>\n",
       "      <td>Graham, Miss. Margaret Edith</td>\n",
       "      <td>female</td>\n",
       "      <td>19.0</td>\n",
       "      <td>0</td>\n",
       "      <td>0</td>\n",
       "      <td>112053</td>\n",
       "      <td>30.0000</td>\n",
       "      <td>B42</td>\n",
       "      <td>S</td>\n",
       "    </tr>\n",
       "    <tr>\n",
       "      <th>888</th>\n",
       "      <td>889</td>\n",
       "      <td>0</td>\n",
       "      <td>3</td>\n",
       "      <td>Johnston, Miss. Catherine Helen \"Carrie\"</td>\n",
       "      <td>female</td>\n",
       "      <td>NaN</td>\n",
       "      <td>1</td>\n",
       "      <td>2</td>\n",
       "      <td>W./C. 6607</td>\n",
       "      <td>23.4500</td>\n",
       "      <td>NaN</td>\n",
       "      <td>S</td>\n",
       "    </tr>\n",
       "    <tr>\n",
       "      <th>889</th>\n",
       "      <td>890</td>\n",
       "      <td>1</td>\n",
       "      <td>1</td>\n",
       "      <td>Behr, Mr. Karl Howell</td>\n",
       "      <td>male</td>\n",
       "      <td>26.0</td>\n",
       "      <td>0</td>\n",
       "      <td>0</td>\n",
       "      <td>111369</td>\n",
       "      <td>30.0000</td>\n",
       "      <td>C148</td>\n",
       "      <td>C</td>\n",
       "    </tr>\n",
       "    <tr>\n",
       "      <th>890</th>\n",
       "      <td>891</td>\n",
       "      <td>0</td>\n",
       "      <td>3</td>\n",
       "      <td>Dooley, Mr. Patrick</td>\n",
       "      <td>male</td>\n",
       "      <td>32.0</td>\n",
       "      <td>0</td>\n",
       "      <td>0</td>\n",
       "      <td>370376</td>\n",
       "      <td>7.7500</td>\n",
       "      <td>NaN</td>\n",
       "      <td>Q</td>\n",
       "    </tr>\n",
       "  </tbody>\n",
       "</table>\n",
       "<p>891 rows × 12 columns</p>\n",
       "</div>"
      ],
      "text/plain": [
       "     PassengerId  Survived  Pclass  \\\n",
       "0              1         0       3   \n",
       "1              2         1       1   \n",
       "2              3         1       3   \n",
       "3              4         1       1   \n",
       "4              5         0       3   \n",
       "..           ...       ...     ...   \n",
       "886          887         0       2   \n",
       "887          888         1       1   \n",
       "888          889         0       3   \n",
       "889          890         1       1   \n",
       "890          891         0       3   \n",
       "\n",
       "                                                  Name  gender   Age  SibSp  \\\n",
       "0                              Braund, Mr. Owen Harris    male  22.0      1   \n",
       "1    Cumings, Mrs. John Bradley (Florence Briggs Th...  female  38.0      1   \n",
       "2                               Heikkinen, Miss. Laina  female  26.0      0   \n",
       "3         Futrelle, Mrs. Jacques Heath (Lily May Peel)  female  35.0      1   \n",
       "4                             Allen, Mr. William Henry    male  35.0      0   \n",
       "..                                                 ...     ...   ...    ...   \n",
       "886                              Montvila, Rev. Juozas    male  27.0      0   \n",
       "887                       Graham, Miss. Margaret Edith  female  19.0      0   \n",
       "888           Johnston, Miss. Catherine Helen \"Carrie\"  female   NaN      1   \n",
       "889                              Behr, Mr. Karl Howell    male  26.0      0   \n",
       "890                                Dooley, Mr. Patrick    male  32.0      0   \n",
       "\n",
       "     Parch            Ticket     Fare Cabin Embarked  \n",
       "0        0         A/5 21171   7.2500   NaN        S  \n",
       "1        0          PC 17599  71.2833   C85        C  \n",
       "2        0  STON/O2. 3101282   7.9250   NaN        S  \n",
       "3        0            113803  53.1000  C123        S  \n",
       "4        0            373450   8.0500   NaN        S  \n",
       "..     ...               ...      ...   ...      ...  \n",
       "886      0            211536  13.0000   NaN        S  \n",
       "887      0            112053  30.0000   B42        S  \n",
       "888      2        W./C. 6607  23.4500   NaN        S  \n",
       "889      0            111369  30.0000  C148        C  \n",
       "890      0            370376   7.7500   NaN        Q  \n",
       "\n",
       "[891 rows x 12 columns]"
      ]
     },
     "execution_count": 31,
     "metadata": {},
     "output_type": "execute_result"
    }
   ],
   "source": [
    "df"
   ]
  },
  {
   "cell_type": "code",
   "execution_count": 33,
   "id": "5cf1773e-8c3d-43ba-a943-a76e94f89aed",
   "metadata": {},
   "outputs": [
    {
     "data": {
      "text/html": [
       "<div>\n",
       "<style scoped>\n",
       "    .dataframe tbody tr th:only-of-type {\n",
       "        vertical-align: middle;\n",
       "    }\n",
       "\n",
       "    .dataframe tbody tr th {\n",
       "        vertical-align: top;\n",
       "    }\n",
       "\n",
       "    .dataframe thead th {\n",
       "        text-align: right;\n",
       "    }\n",
       "</style>\n",
       "<table border=\"1\" class=\"dataframe\">\n",
       "  <thead>\n",
       "    <tr style=\"text-align: right;\">\n",
       "      <th></th>\n",
       "      <th>mean</th>\n",
       "      <th>min</th>\n",
       "      <th>max</th>\n",
       "    </tr>\n",
       "    <tr>\n",
       "      <th>gender</th>\n",
       "      <th></th>\n",
       "      <th></th>\n",
       "      <th></th>\n",
       "    </tr>\n",
       "  </thead>\n",
       "  <tbody>\n",
       "    <tr>\n",
       "      <th>female</th>\n",
       "      <td>27.915709</td>\n",
       "      <td>0.75</td>\n",
       "      <td>63.0</td>\n",
       "    </tr>\n",
       "    <tr>\n",
       "      <th>male</th>\n",
       "      <td>30.726645</td>\n",
       "      <td>0.42</td>\n",
       "      <td>80.0</td>\n",
       "    </tr>\n",
       "  </tbody>\n",
       "</table>\n",
       "</div>"
      ],
      "text/plain": [
       "             mean   min   max\n",
       "gender                       \n",
       "female  27.915709  0.75  63.0\n",
       "male    30.726645  0.42  80.0"
      ]
     },
     "execution_count": 33,
     "metadata": {},
     "output_type": "execute_result"
    }
   ],
   "source": [
    "df.groupby(by=\"gender\").Age.agg([\"mean\",\"min\",\"max\"])"
   ]
  },
  {
   "cell_type": "code",
   "execution_count": 35,
   "id": "2a981c04-8c71-4b9c-9123-360b170d6088",
   "metadata": {},
   "outputs": [
    {
     "data": {
      "text/html": [
       "<div>\n",
       "<style scoped>\n",
       "    .dataframe tbody tr th:only-of-type {\n",
       "        vertical-align: middle;\n",
       "    }\n",
       "\n",
       "    .dataframe tbody tr th {\n",
       "        vertical-align: top;\n",
       "    }\n",
       "\n",
       "    .dataframe thead th {\n",
       "        text-align: right;\n",
       "    }\n",
       "</style>\n",
       "<table border=\"1\" class=\"dataframe\">\n",
       "  <thead>\n",
       "    <tr style=\"text-align: right;\">\n",
       "      <th></th>\n",
       "      <th>mean</th>\n",
       "      <th>min</th>\n",
       "      <th>max</th>\n",
       "    </tr>\n",
       "    <tr>\n",
       "      <th>Embarked</th>\n",
       "      <th></th>\n",
       "      <th></th>\n",
       "      <th></th>\n",
       "    </tr>\n",
       "  </thead>\n",
       "  <tbody>\n",
       "    <tr>\n",
       "      <th>C</th>\n",
       "      <td>1.886905</td>\n",
       "      <td>1</td>\n",
       "      <td>3</td>\n",
       "    </tr>\n",
       "    <tr>\n",
       "      <th>Q</th>\n",
       "      <td>2.909091</td>\n",
       "      <td>1</td>\n",
       "      <td>3</td>\n",
       "    </tr>\n",
       "    <tr>\n",
       "      <th>S</th>\n",
       "      <td>2.350932</td>\n",
       "      <td>1</td>\n",
       "      <td>3</td>\n",
       "    </tr>\n",
       "  </tbody>\n",
       "</table>\n",
       "</div>"
      ],
      "text/plain": [
       "              mean  min  max\n",
       "Embarked                    \n",
       "C         1.886905    1    3\n",
       "Q         2.909091    1    3\n",
       "S         2.350932    1    3"
      ]
     },
     "execution_count": 35,
     "metadata": {},
     "output_type": "execute_result"
    }
   ],
   "source": [
    "df.groupby(by=\"Embarked\").Pclass.agg([\"mean\",\"min\",\"max\"])"
   ]
  },
  {
   "cell_type": "code",
   "execution_count": 38,
   "id": "79568f45-af99-4a6c-9e9d-b7044791627f",
   "metadata": {},
   "outputs": [
    {
     "data": {
      "text/plain": [
       "(644, 12)"
      ]
     },
     "execution_count": 38,
     "metadata": {},
     "output_type": "execute_result"
    }
   ],
   "source": [
    "df[(df.Embarked==\"S\")].shape"
   ]
  },
  {
   "cell_type": "code",
   "execution_count": 39,
   "id": "c68bdb03-93cb-4ccf-b797-d09b0def37bf",
   "metadata": {},
   "outputs": [
    {
     "data": {
      "text/plain": [
       "(77, 12)"
      ]
     },
     "execution_count": 39,
     "metadata": {},
     "output_type": "execute_result"
    }
   ],
   "source": [
    "df[(df.Embarked==\"Q\")].shape"
   ]
  },
  {
   "cell_type": "code",
   "execution_count": 40,
   "id": "a3ec9ae7-ac63-44a4-8d75-31dd8f9a649d",
   "metadata": {},
   "outputs": [
    {
     "data": {
      "text/plain": [
       "(168, 12)"
      ]
     },
     "execution_count": 40,
     "metadata": {},
     "output_type": "execute_result"
    }
   ],
   "source": [
    "df[(df.Embarked==\"C\")].shape"
   ]
  },
  {
   "cell_type": "code",
   "execution_count": 41,
   "id": "26a8ea0d-fb5e-435b-82bd-d425766ea606",
   "metadata": {},
   "outputs": [
    {
     "name": "stdout",
     "output_type": "stream",
     "text": [
      "889\n"
     ]
    }
   ],
   "source": [
    "print(df.Embarked.count())"
   ]
  },
  {
   "cell_type": "code",
   "execution_count": 42,
   "id": "65b58162-25e7-47ef-8b15-7967365a5311",
   "metadata": {},
   "outputs": [
    {
     "data": {
      "text/plain": [
       "(441, 12)"
      ]
     },
     "execution_count": 42,
     "metadata": {},
     "output_type": "execute_result"
    }
   ],
   "source": [
    "df[(df.Embarked==\"S\")&(df.gender==\"male\")].shape"
   ]
  },
  {
   "cell_type": "code",
   "execution_count": 43,
   "id": "f0fa779b-875f-4c0b-b619-3a1b592c9266",
   "metadata": {},
   "outputs": [
    {
     "data": {
      "text/plain": [
       "(203, 12)"
      ]
     },
     "execution_count": 43,
     "metadata": {},
     "output_type": "execute_result"
    }
   ],
   "source": [
    "df[(df.Embarked==\"S\")&(df.gender==\"female\")].shape"
   ]
  },
  {
   "cell_type": "code",
   "execution_count": 44,
   "id": "c324c993-23ad-488d-b9a8-d90049e5caad",
   "metadata": {},
   "outputs": [
    {
     "data": {
      "text/plain": [
       "(41, 12)"
      ]
     },
     "execution_count": 44,
     "metadata": {},
     "output_type": "execute_result"
    }
   ],
   "source": [
    "df[(df.Embarked==\"Q\")&(df.gender==\"male\")].shape"
   ]
  },
  {
   "cell_type": "code",
   "execution_count": 45,
   "id": "6e71eede-d6cc-4e8c-98be-35e186d80104",
   "metadata": {},
   "outputs": [
    {
     "data": {
      "text/plain": [
       "(36, 12)"
      ]
     },
     "execution_count": 45,
     "metadata": {},
     "output_type": "execute_result"
    }
   ],
   "source": [
    "df[(df.Embarked==\"Q\")&(df.gender==\"female\")].shape"
   ]
  },
  {
   "cell_type": "code",
   "execution_count": 46,
   "id": "80f1efda-6e31-400e-9b95-f58d455cc816",
   "metadata": {},
   "outputs": [
    {
     "data": {
      "text/plain": [
       "(95, 12)"
      ]
     },
     "execution_count": 46,
     "metadata": {},
     "output_type": "execute_result"
    }
   ],
   "source": [
    "df[(df.Embarked==\"C\")&(df.gender==\"male\")].shape"
   ]
  },
  {
   "cell_type": "code",
   "execution_count": 47,
   "id": "77d5c56c-10bf-4184-a3b1-ce1d4b28685b",
   "metadata": {},
   "outputs": [
    {
     "data": {
      "text/plain": [
       "(73, 12)"
      ]
     },
     "execution_count": 47,
     "metadata": {},
     "output_type": "execute_result"
    }
   ],
   "source": [
    "df[(df.Embarked==\"C\")&(df.gender==\"female\")].shape"
   ]
  },
  {
   "cell_type": "code",
   "execution_count": 48,
   "id": "e3f68c98-582a-49d0-ae28-c836d267b335",
   "metadata": {},
   "outputs": [
    {
     "name": "stdout",
     "output_type": "stream",
     "text": [
      "Total Number of Embarked from S = 644\n",
      "Total Number of Embarked from Q = 77\n",
      "Total Number of Embarked from C = 168\n"
     ]
    }
   ],
   "source": [
    "print(\"Total Number of Embarked from S = 644\")\n",
    "print(\"Total Number of Embarked from Q = 77\")\n",
    "print(\"Total Number of Embarked from C = 168\")"
   ]
  },
  {
   "cell_type": "code",
   "execution_count": 49,
   "id": "bac5d020-fd9b-4a4a-ab4f-2f0c333fe876",
   "metadata": {},
   "outputs": [
    {
     "name": "stdout",
     "output_type": "stream",
     "text": [
      "Total Number of Male Embarked from S = 441\n",
      "Total Number of Female Embarked from S = 203\n",
      "Total Number of Male Embarked from Q = 41\n",
      "Total Number of Female Embarked from Q = 36\n",
      "Total Number of Male Embarked from C = 95\n",
      "Total Number of Female Embarked from C = 73\n"
     ]
    }
   ],
   "source": [
    "print(\"Total Number of Male Embarked from S = 441\")\n",
    "print(\"Total Number of Female Embarked from S = 203\")\n",
    "print(\"Total Number of Male Embarked from Q = 41\")\n",
    "print(\"Total Number of Female Embarked from Q = 36\")\n",
    "print(\"Total Number of Male Embarked from C = 95\")\n",
    "print(\"Total Number of Female Embarked from C = 73\")"
   ]
  },
  {
   "cell_type": "code",
   "execution_count": 51,
   "id": "f4446d9e-98a7-4dc2-9fa9-4b294beb1a86",
   "metadata": {},
   "outputs": [
    {
     "data": {
      "text/html": [
       "<div>\n",
       "<style scoped>\n",
       "    .dataframe tbody tr th:only-of-type {\n",
       "        vertical-align: middle;\n",
       "    }\n",
       "\n",
       "    .dataframe tbody tr th {\n",
       "        vertical-align: top;\n",
       "    }\n",
       "\n",
       "    .dataframe thead tr th {\n",
       "        text-align: left;\n",
       "    }\n",
       "\n",
       "    .dataframe thead tr:last-of-type th {\n",
       "        text-align: right;\n",
       "    }\n",
       "</style>\n",
       "<table border=\"1\" class=\"dataframe\">\n",
       "  <thead>\n",
       "    <tr>\n",
       "      <th></th>\n",
       "      <th>sum</th>\n",
       "      <th>mean</th>\n",
       "      <th>min</th>\n",
       "      <th>max</th>\n",
       "    </tr>\n",
       "    <tr>\n",
       "      <th></th>\n",
       "      <th>Fare</th>\n",
       "      <th>Fare</th>\n",
       "      <th>Fare</th>\n",
       "      <th>Fare</th>\n",
       "    </tr>\n",
       "    <tr>\n",
       "      <th>gender</th>\n",
       "      <th></th>\n",
       "      <th></th>\n",
       "      <th></th>\n",
       "      <th></th>\n",
       "    </tr>\n",
       "  </thead>\n",
       "  <tbody>\n",
       "    <tr>\n",
       "      <th>female</th>\n",
       "      <td>13966.6628</td>\n",
       "      <td>44.479818</td>\n",
       "      <td>6.75</td>\n",
       "      <td>512.3292</td>\n",
       "    </tr>\n",
       "    <tr>\n",
       "      <th>male</th>\n",
       "      <td>14727.2865</td>\n",
       "      <td>25.523893</td>\n",
       "      <td>0.00</td>\n",
       "      <td>512.3292</td>\n",
       "    </tr>\n",
       "  </tbody>\n",
       "</table>\n",
       "</div>"
      ],
      "text/plain": [
       "               sum       mean   min       max\n",
       "              Fare       Fare  Fare      Fare\n",
       "gender                                       \n",
       "female  13966.6628  44.479818  6.75  512.3292\n",
       "male    14727.2865  25.523893  0.00  512.3292"
      ]
     },
     "execution_count": 51,
     "metadata": {},
     "output_type": "execute_result"
    }
   ],
   "source": [
    "df.pivot_table(index=\"gender\",values=\"Fare\",aggfunc=[\"sum\",\"mean\",\"min\",\"max\"])"
   ]
  },
  {
   "cell_type": "code",
   "execution_count": 19,
   "id": "af5a352b-1907-4fb1-a4b8-2862e47fc313",
   "metadata": {},
   "outputs": [
    {
     "data": {
      "text/html": [
       "<div>\n",
       "<style scoped>\n",
       "    .dataframe tbody tr th:only-of-type {\n",
       "        vertical-align: middle;\n",
       "    }\n",
       "\n",
       "    .dataframe tbody tr th {\n",
       "        vertical-align: top;\n",
       "    }\n",
       "\n",
       "    .dataframe thead tr th {\n",
       "        text-align: left;\n",
       "    }\n",
       "\n",
       "    .dataframe thead tr:last-of-type th {\n",
       "        text-align: right;\n",
       "    }\n",
       "</style>\n",
       "<table border=\"1\" class=\"dataframe\">\n",
       "  <thead>\n",
       "    <tr>\n",
       "      <th></th>\n",
       "      <th></th>\n",
       "      <th></th>\n",
       "      <th>sum</th>\n",
       "      <th>mean</th>\n",
       "      <th>min</th>\n",
       "      <th>max</th>\n",
       "    </tr>\n",
       "    <tr>\n",
       "      <th></th>\n",
       "      <th></th>\n",
       "      <th></th>\n",
       "      <th>Fare</th>\n",
       "      <th>Fare</th>\n",
       "      <th>Fare</th>\n",
       "      <th>Fare</th>\n",
       "    </tr>\n",
       "    <tr>\n",
       "      <th>gender</th>\n",
       "      <th>Pclass</th>\n",
       "      <th>Survived</th>\n",
       "      <th></th>\n",
       "      <th></th>\n",
       "      <th></th>\n",
       "      <th></th>\n",
       "    </tr>\n",
       "  </thead>\n",
       "  <tbody>\n",
       "    <tr>\n",
       "      <th rowspan=\"6\" valign=\"top\">female</th>\n",
       "      <th rowspan=\"2\" valign=\"top\">1</th>\n",
       "      <th>0</th>\n",
       "      <td>331.8125</td>\n",
       "      <td>110.604167</td>\n",
       "      <td>28.7125</td>\n",
       "      <td>151.5500</td>\n",
       "    </tr>\n",
       "    <tr>\n",
       "      <th>1</th>\n",
       "      <td>8843.6209</td>\n",
       "      <td>107.849035</td>\n",
       "      <td>25.9292</td>\n",
       "      <td>512.3292</td>\n",
       "    </tr>\n",
       "    <tr>\n",
       "      <th rowspan=\"2\" valign=\"top\">2</th>\n",
       "      <th>0</th>\n",
       "      <td>109.5000</td>\n",
       "      <td>18.250000</td>\n",
       "      <td>10.5000</td>\n",
       "      <td>26.0000</td>\n",
       "    </tr>\n",
       "    <tr>\n",
       "      <th>1</th>\n",
       "      <td>1514.8792</td>\n",
       "      <td>22.277635</td>\n",
       "      <td>10.5000</td>\n",
       "      <td>65.0000</td>\n",
       "    </tr>\n",
       "    <tr>\n",
       "      <th rowspan=\"2\" valign=\"top\">3</th>\n",
       "      <th>0</th>\n",
       "      <td>1016.0876</td>\n",
       "      <td>18.474320</td>\n",
       "      <td>6.7500</td>\n",
       "      <td>46.9000</td>\n",
       "    </tr>\n",
       "    <tr>\n",
       "      <th>1</th>\n",
       "      <td>603.2000</td>\n",
       "      <td>12.834043</td>\n",
       "      <td>7.2250</td>\n",
       "      <td>31.3875</td>\n",
       "    </tr>\n",
       "    <tr>\n",
       "      <th rowspan=\"6\" valign=\"top\">male</th>\n",
       "      <th rowspan=\"2\" valign=\"top\">1</th>\n",
       "      <th>0</th>\n",
       "      <td>3978.9915</td>\n",
       "      <td>65.229369</td>\n",
       "      <td>0.0000</td>\n",
       "      <td>263.0000</td>\n",
       "    </tr>\n",
       "    <tr>\n",
       "      <th>1</th>\n",
       "      <td>3206.4294</td>\n",
       "      <td>80.160735</td>\n",
       "      <td>26.2875</td>\n",
       "      <td>512.3292</td>\n",
       "    </tr>\n",
       "    <tr>\n",
       "      <th rowspan=\"2\" valign=\"top\">2</th>\n",
       "      <th>0</th>\n",
       "      <td>1758.4458</td>\n",
       "      <td>20.933879</td>\n",
       "      <td>10.5000</td>\n",
       "      <td>73.5000</td>\n",
       "    </tr>\n",
       "    <tr>\n",
       "      <th>1</th>\n",
       "      <td>331.7542</td>\n",
       "      <td>22.116947</td>\n",
       "      <td>10.5000</td>\n",
       "      <td>39.0000</td>\n",
       "    </tr>\n",
       "    <tr>\n",
       "      <th rowspan=\"2\" valign=\"top\">3</th>\n",
       "      <th>0</th>\n",
       "      <td>2542.5161</td>\n",
       "      <td>11.825656</td>\n",
       "      <td>0.0000</td>\n",
       "      <td>56.4958</td>\n",
       "    </tr>\n",
       "    <tr>\n",
       "      <th>1</th>\n",
       "      <td>534.6458</td>\n",
       "      <td>14.069626</td>\n",
       "      <td>0.0000</td>\n",
       "      <td>56.4958</td>\n",
       "    </tr>\n",
       "  </tbody>\n",
       "</table>\n",
       "</div>"
      ],
      "text/plain": [
       "                              sum        mean      min       max\n",
       "                             Fare        Fare     Fare      Fare\n",
       "gender Pclass Survived                                          \n",
       "female 1      0          331.8125  110.604167  28.7125  151.5500\n",
       "              1         8843.6209  107.849035  25.9292  512.3292\n",
       "       2      0          109.5000   18.250000  10.5000   26.0000\n",
       "              1         1514.8792   22.277635  10.5000   65.0000\n",
       "       3      0         1016.0876   18.474320   6.7500   46.9000\n",
       "              1          603.2000   12.834043   7.2250   31.3875\n",
       "male   1      0         3978.9915   65.229369   0.0000  263.0000\n",
       "              1         3206.4294   80.160735  26.2875  512.3292\n",
       "       2      0         1758.4458   20.933879  10.5000   73.5000\n",
       "              1          331.7542   22.116947  10.5000   39.0000\n",
       "       3      0         2542.5161   11.825656   0.0000   56.4958\n",
       "              1          534.6458   14.069626   0.0000   56.4958"
      ]
     },
     "execution_count": 19,
     "metadata": {},
     "output_type": "execute_result"
    }
   ],
   "source": [
    "df.pivot_table(index=[\"gender\",\"Pclass\",\"Survived\"],values=\"Fare\",aggfunc=[\"sum\",\"mean\",\"min\",\"max\"])"
   ]
  },
  {
   "cell_type": "code",
   "execution_count": 47,
   "id": "14b332ec-73ea-4ece-ae56-4526c1822e25",
   "metadata": {},
   "outputs": [],
   "source": [
    "# df.pivot_table(index=[\"Age\",gender==\"male\"],values=\"Survived\",aggfunc=\"mean\")"
   ]
  },
  {
   "cell_type": "code",
   "execution_count": null,
   "id": "16fbca99-bf0b-4193-8570-02a6fd1eb194",
   "metadata": {},
   "outputs": [],
   "source": []
  }
 ],
 "metadata": {
  "kernelspec": {
   "display_name": "Python 3 (ipykernel)",
   "language": "python",
   "name": "python3"
  },
  "language_info": {
   "codemirror_mode": {
    "name": "ipython",
    "version": 3
   },
   "file_extension": ".py",
   "mimetype": "text/x-python",
   "name": "python",
   "nbconvert_exporter": "python",
   "pygments_lexer": "ipython3",
   "version": "3.13.1"
  }
 },
 "nbformat": 4,
 "nbformat_minor": 5
}
